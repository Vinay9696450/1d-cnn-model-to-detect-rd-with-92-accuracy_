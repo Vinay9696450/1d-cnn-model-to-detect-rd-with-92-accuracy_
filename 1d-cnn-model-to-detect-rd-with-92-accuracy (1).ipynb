{
 "cells": [
  {
   "cell_type": "markdown",
   "id": "37e34ac7",
   "metadata": {
    "execution": {
     "iopub.execute_input": "2023-10-03T12:04:37.082920Z",
     "iopub.status.busy": "2023-10-03T12:04:37.082545Z",
     "iopub.status.idle": "2023-10-03T12:04:37.089268Z",
     "shell.execute_reply": "2023-10-03T12:04:37.088009Z",
     "shell.execute_reply.started": "2023-10-03T12:04:37.082891Z"
    },
    "papermill": {
     "duration": 0.010059,
     "end_time": "2023-10-04T06:46:57.242499",
     "exception": false,
     "start_time": "2023-10-04T06:46:57.232440",
     "status": "completed"
    },
    "tags": []
   },
   "source": [
    "## PACKAGES AND LIBRARIES"
   ]
  },
  {
   "cell_type": "code",
   "execution_count": null,
   "id": "9a1306b9",
   "metadata": {
    "papermill": {
     "duration": 10.026169,
     "end_time": "2023-10-04T06:47:41.286119",
     "exception": false,
     "start_time": "2023-10-04T06:47:31.259950",
     "status": "completed"
    },
    "tags": []
   },
   "outputs": [],
   "source": [
    "!pip install librosa --upgrade"
   ]
  },
  {
   "cell_type": "markdown",
   "id": "a0d5fca9",
   "metadata": {
    "papermill": {
     "duration": 0.010102,
     "end_time": "2023-10-04T06:47:41.306782",
     "exception": false,
     "start_time": "2023-10-04T06:47:41.296680",
     "status": "completed"
    },
    "tags": []
   },
   "source": [
    "# DATASET"
   ]
  },
  {
   "cell_type": "code",
   "execution_count": 2,
   "id": "d2613ba1",
   "metadata": {
    "papermill": {
     "duration": 65.302888,
     "end_time": "2023-10-04T06:48:46.619393",
     "exception": false,
     "start_time": "2023-10-04T06:47:41.316505",
     "status": "completed"
    },
    "tags": []
   },
   "outputs": [],
   "source": [
    "mypath = r\"C:\\Users\\acer\\Downloads\\ICBHI\\Respiratory_Sound_Database\\Respiratory_Sound_Database\\audio_and_txt_files\"\n",
    "filenames = [f for f in listdir(mypath) if (isfile(join(mypath, f)) and f.endswith('.wav'))] "
   ]
  },
  {
   "cell_type": "code",
   "execution_count": 3,
   "id": "307c0c73",
   "metadata": {
    "papermill": {
     "duration": 0.021531,
     "end_time": "2023-10-04T06:48:46.652030",
     "exception": false,
     "start_time": "2023-10-04T06:48:46.630499",
     "status": "completed"
    },
    "tags": []
   },
   "outputs": [],
   "source": [
    "p_id_in_file = [] # patient IDs corresponding to each file\n",
    "for name in filenames:\n",
    "    p_id_in_file.append(int(name[:3]))\n",
    "\n",
    "p_id_in_file = np.array(p_id_in_file)"
   ]
  },
  {
   "cell_type": "code",
   "execution_count": 4,
   "id": "ca3d8fab",
   "metadata": {
    "papermill": {
     "duration": 0.021004,
     "end_time": "2023-10-04T06:48:46.683584",
     "exception": false,
     "start_time": "2023-10-04T06:48:46.662580",
     "status": "completed"
    },
    "tags": []
   },
   "outputs": [],
   "source": [
    "filepaths = [join(mypath, f) for f in filenames] # full paths of files"
   ]
  },
  {
   "cell_type": "code",
   "execution_count": 5,
   "id": "d292d445",
   "metadata": {
    "papermill": {
     "duration": 0.143426,
     "end_time": "2023-10-04T06:48:46.837286",
     "exception": false,
     "start_time": "2023-10-04T06:48:46.693860",
     "status": "completed"
    },
    "tags": []
   },
   "outputs": [],
   "source": [
    "p_diag = pd.read_csv(r\"C:\\Users\\acer\\Downloads\\ICBHI\\Respiratory_Sound_Database\\Respiratory_Sound_Database\\patient_diagnosis.csv\",header=None) # patient diagnosis file"
   ]
  },
  {
   "cell_type": "code",
   "execution_count": 6,
   "id": "86f6597c",
   "metadata": {
    "papermill": {
     "duration": 0.3807,
     "end_time": "2023-10-04T06:48:47.228587",
     "exception": false,
     "start_time": "2023-10-04T06:48:46.847887",
     "status": "completed"
    },
    "tags": []
   },
   "outputs": [],
   "source": [
    "labels = np.array([p_diag[p_diag[0] == x][1].values[0] for x in p_id_in_file]) # labels for audio files\n"
   ]
  },
  {
   "cell_type": "markdown",
   "id": "d285163a",
   "metadata": {
    "papermill": {
     "duration": 0.009568,
     "end_time": "2023-10-04T06:48:47.248420",
     "exception": false,
     "start_time": "2023-10-04T06:48:47.238852",
     "status": "completed"
    },
    "tags": []
   },
   "source": [
    "# DATA AUGMENTATION FUNCTIONS"
   ]
  },
  {
   "cell_type": "markdown",
   "id": "255fa20a",
   "metadata": {
    "papermill": {
     "duration": 0.009581,
     "end_time": "2023-10-04T06:48:47.336197",
     "exception": false,
     "start_time": "2023-10-04T06:48:47.326616",
     "status": "completed"
    },
    "tags": []
   },
   "source": [
    "NOISE"
   ]
  },
  {
   "cell_type": "code",
   "execution_count": 7,
   "id": "e6d1516e",
   "metadata": {
    "papermill": {
     "duration": 0.020973,
     "end_time": "2023-10-04T06:48:47.366930",
     "exception": false,
     "start_time": "2023-10-04T06:48:47.345957",
     "status": "completed"
    },
    "tags": []
   },
   "outputs": [],
   "source": [
    "def add_noise(data):\n",
    "    noise_value = 0.015 * np.random.uniform() * np.amax(data)\n",
    "    data = data + noise_value * np.random.normal(size=data.shape[0])\n",
    "    return data"
   ]
  },
  {
   "cell_type": "markdown",
   "id": "7e19e9b1",
   "metadata": {
    "papermill": {
     "duration": 0.01015,
     "end_time": "2023-10-04T06:48:47.388256",
     "exception": false,
     "start_time": "2023-10-04T06:48:47.378106",
     "status": "completed"
    },
    "tags": []
   },
   "source": [
    "STRETCH"
   ]
  },
  {
   "cell_type": "code",
   "execution_count": 8,
   "id": "35917116",
   "metadata": {
    "papermill": {
     "duration": 0.020248,
     "end_time": "2023-10-04T06:48:47.418844",
     "exception": false,
     "start_time": "2023-10-04T06:48:47.398596",
     "status": "completed"
    },
    "tags": []
   },
   "outputs": [],
   "source": [
    "def stretch_process(data, rate=0.8):\n",
    "    return librosa.effects.time_stretch(data, rate=0.8)"
   ]
  },
  {
   "cell_type": "markdown",
   "id": "9f39cf17",
   "metadata": {
    "papermill": {
     "duration": 0.010656,
     "end_time": "2023-10-04T06:48:47.439929",
     "exception": false,
     "start_time": "2023-10-04T06:48:47.429273",
     "status": "completed"
    },
    "tags": []
   },
   "source": [
    "PITCH"
   ]
  },
  {
   "cell_type": "code",
   "execution_count": 9,
   "id": "77636e28",
   "metadata": {
    "papermill": {
     "duration": 0.021051,
     "end_time": "2023-10-04T06:48:47.471659",
     "exception": false,
     "start_time": "2023-10-04T06:48:47.450608",
     "status": "completed"
    },
    "tags": []
   },
   "outputs": [],
   "source": [
    "def pitch_process(data, sampling_rate, pitch_factor=0.7):\n",
    "    return librosa.effects.pitch_shift(data, sr=sampling_rate, n_steps=pitch_factor)"
   ]
  },
  {
   "cell_type": "markdown",
   "id": "a85890e8",
   "metadata": {
    "papermill": {
     "duration": 0.010109,
     "end_time": "2023-10-04T06:48:47.491957",
     "exception": false,
     "start_time": "2023-10-04T06:48:47.481848",
     "status": "completed"
    },
    "tags": []
   },
   "source": [
    "# DATA PROCESS FUNCTIONS"
   ]
  },
  {
   "cell_type": "markdown",
   "id": "28d493dc",
   "metadata": {
    "papermill": {
     "duration": 0.009387,
     "end_time": "2023-10-04T06:48:47.511808",
     "exception": false,
     "start_time": "2023-10-04T06:48:47.502421",
     "status": "completed"
    },
    "tags": []
   },
   "source": [
    "EXTRACT FEATURES"
   ]
  },
  {
   "cell_type": "code",
   "execution_count": 10,
   "id": "f4a82c31",
   "metadata": {
    "papermill": {
     "duration": 0.022278,
     "end_time": "2023-10-04T06:48:47.543952",
     "exception": false,
     "start_time": "2023-10-04T06:48:47.521674",
     "status": "completed"
    },
    "tags": []
   },
   "outputs": [],
   "source": [
    "def extract_process(data, sample_rate):\n",
    "    output_result = np.array([])\n",
    "\n",
    "    mean_zero = np.mean(librosa.feature.zero_crossing_rate(y=data).T, axis=0)\n",
    "    output_result = np.hstack((output_result, mean_zero))\n",
    "\n",
    "    stft_out = np.abs(librosa.stft(data))\n",
    "    chroma_stft = np.mean(librosa.feature.chroma_stft(S=stft_out, sr=sample_rate).T, axis=0)\n",
    "    output_result = np.hstack((output_result, chroma_stft))\n",
    "\n",
    "    mfcc_out = np.mean(librosa.feature.mfcc(y=data, sr=sample_rate, n_mfcc=40).T, axis=0)\n",
    "    output_result = np.hstack((output_result, mfcc_out))\n",
    "\n",
    "    root_mean_out = np.mean(librosa.feature.rms(y=data).T, axis=0)\n",
    "    output_result = np.hstack((output_result, root_mean_out))\n",
    "\n",
    "    mel_spectogram = np.mean(librosa.feature.melspectrogram(y=data, sr=sample_rate).T, axis=0)\n",
    "    output_result = np.hstack((output_result, mel_spectogram))\n",
    "\n",
    "    return output_result"
   ]
  },
  {
   "cell_type": "markdown",
   "id": "f624a01c",
   "metadata": {
    "papermill": {
     "duration": 0.009909,
     "end_time": "2023-10-04T06:48:47.563683",
     "exception": false,
     "start_time": "2023-10-04T06:48:47.553774",
     "status": "completed"
    },
    "tags": []
   },
   "source": [
    "EXPORT FEATURES"
   ]
  },
  {
   "cell_type": "code",
   "execution_count": 11,
   "id": "d82e8725",
   "metadata": {
    "papermill": {
     "duration": 0.023352,
     "end_time": "2023-10-04T06:48:47.596994",
     "exception": false,
     "start_time": "2023-10-04T06:48:47.573642",
     "status": "completed"
    },
    "tags": []
   },
   "outputs": [],
   "source": [
    "def extract_features(file_name):\n",
    "    \"\"\"\n",
    "    This function takes in the path for an audio file as a string, loads it,\n",
    "    and extracts several audio features including mean values of MFCC, Zero Crossing Rate,\n",
    "    Chromagram, Root Mean Square Energy, and Mel Spectrogram from the original and its augmented versions.\n",
    "    \"\"\"\n",
    "    try:\n",
    "        # Load the original audio file\n",
    "        audio, sample_rate = librosa.load(file_name, res_type='kaiser_fast', duration=42, offset=0.6)\n",
    "\n",
    "        # Extract features from the original audio data\n",
    "        extracted_features = extract_process(audio, sample_rate)\n",
    "        result = np.array(extracted_features)\n",
    "\n",
    "        # Add noise and extract features\n",
    "        noise_out = add_noise(audio)\n",
    "        output_2 = extract_process(noise_out, sample_rate)\n",
    "        result = np.vstack((result, output_2))\n",
    "\n",
    "        # Time-stretch and then pitch-shift before extracting features\n",
    "        new_out = stretch_process(audio,0.8)\n",
    "        stretch_pitch = pitch_process(new_out, sample_rate,pitch_factor=0.7)\n",
    "        output_3 = extract_process(stretch_pitch, sample_rate)\n",
    "        result = np.vstack((result, output_3))\n",
    "\n",
    "    except Exception as e:\n",
    "        print(\"Error encountered while parsing file: \", file_name)\n",
    "        print(\"Error Details:\", e)\n",
    "        return None\n",
    "\n",
    "    return result"
   ]
  },
  {
   "cell_type": "markdown",
   "id": "bb486635",
   "metadata": {
    "papermill": {
     "duration": 0.010039,
     "end_time": "2023-10-04T06:48:47.617441",
     "exception": false,
     "start_time": "2023-10-04T06:48:47.607402",
     "status": "completed"
    },
    "tags": []
   },
   "source": [
    "# DATA PROCESS AND ENGINEERING"
   ]
  },
  {
   "cell_type": "markdown",
   "id": "cc6e2e6c",
   "metadata": {
    "papermill": {
     "duration": 0.009859,
     "end_time": "2023-10-04T06:48:47.637720",
     "exception": false,
     "start_time": "2023-10-04T06:48:47.627861",
     "status": "completed"
    },
    "tags": []
   },
   "source": [
    "TRANSFORMATION AND EXPORTATION"
   ]
  },
  {
   "cell_type": "code",
   "execution_count": 12,
   "id": "3fbb508a",
   "metadata": {
    "papermill": {
     "duration": 1815.80866,
     "end_time": "2023-10-04T07:19:03.456459",
     "exception": false,
     "start_time": "2023-10-04T06:48:47.647799",
     "status": "completed"
    },
    "tags": []
   },
   "outputs": [
    {
     "name": "stderr",
     "output_type": "stream",
     "text": [
      "C:\\Users\\acer\\anaconda3\\envs\\myenv\\lib\\site-packages\\librosa\\core\\pitch.py:103: UserWarning: Trying to estimate tuning from empty frequency set.\n",
      "  return pitch_tuning(\n"
     ]
    },
    {
     "name": "stdout",
     "output_type": "stream",
     "text": [
      "Finished feature extraction from  920  files\n"
     ]
    }
   ],
   "source": [
    "features = []\n",
    "\n",
    "# Iterate through each sound file and extract the features\n",
    "for file_name in filepaths:\n",
    "    data = extract_features(file_name)\n",
    "    features.append(data)\n",
    "\n",
    "print('Finished feature extraction from ', len(features), ' files')\n",
    "features = np.array(features)"
   ]
  },
  {
   "cell_type": "code",
   "execution_count": 13,
   "id": "323ac262",
   "metadata": {
    "papermill": {
     "duration": 0.048401,
     "end_time": "2023-10-04T07:19:03.536757",
     "exception": false,
     "start_time": "2023-10-04T07:19:03.488356",
     "status": "completed"
    },
    "tags": []
   },
   "outputs": [
    {
     "data": {
      "text/plain": [
       "(920, 3, 182)"
      ]
     },
     "execution_count": 13,
     "metadata": {},
     "output_type": "execute_result"
    }
   ],
   "source": [
    "features.shape"
   ]
  },
  {
   "cell_type": "code",
   "execution_count": 14,
   "id": "7d574774",
   "metadata": {
    "papermill": {
     "duration": 0.022881,
     "end_time": "2023-10-04T07:19:03.571983",
     "exception": false,
     "start_time": "2023-10-04T07:19:03.549102",
     "status": "completed"
    },
    "tags": []
   },
   "outputs": [],
   "source": [
    "# delete the very rare diseases\n",
    "new_features = np.delete(features, np.where((labels == 'Asthma') | (labels == 'LRTI'))[0], axis=0)\n",
    "\n",
    "new_labels = np.delete(labels, np.where((labels == 'Asthma') | (labels == 'LRTI'))[0], axis=0)"
   ]
  },
  {
   "cell_type": "code",
   "execution_count": 15,
   "id": "3f11b431",
   "metadata": {
    "papermill": {
     "duration": 0.02469,
     "end_time": "2023-10-04T07:19:03.607615",
     "exception": false,
     "start_time": "2023-10-04T07:19:03.582925",
     "status": "completed"
    },
    "tags": []
   },
   "outputs": [
    {
     "name": "stdout",
     "output_type": "stream",
     "text": [
      "[['Bronchiectasis' 'Bronchiolitis' 'COPD' 'Healthy' 'Pneumonia' 'URTI']\n",
      " ['16' '13' '793' '35' '37' '23']]\n"
     ]
    }
   ],
   "source": [
    "# print class counts\n",
    "unique_elements, counts_elements = np.unique(new_labels, return_counts=True)\n",
    "print(np.asarray((unique_elements, counts_elements)))"
   ]
  },
  {
   "cell_type": "code",
   "execution_count": 17,
   "id": "b0a82eb8",
   "metadata": {
    "papermill": {
     "duration": 0.330316,
     "end_time": "2023-10-04T07:19:03.949347",
     "exception": false,
     "start_time": "2023-10-04T07:19:03.619031",
     "status": "completed"
    },
    "tags": []
   },
   "outputs": [
    {
     "data": {
      "image/png": "[encoded data removed]",
      "text/plain": [
       "<Figure size 1200x800 with 1 Axes>"
      ]
     },
     "metadata": {},
     "output_type": "display_data"
    }
   ],
   "source": [
    "# plot class counts\n",
    "y_pos = np.arange(len(unique_elements))\n",
    "plt.figure(figsize=(12,8))\n",
    "plt.bar(unique_elements, counts_elements, align='center', alpha=0.5)\n",
    "plt.xticks(y_pos, unique_elements)\n",
    "plt.ylabel('Count')\n",
    "plt.xlabel('Disease')\n",
    "plt.title('Disease Count in Sound Files (No Asthma or LRTI)')\n",
    "plt.show()"
   ]
  },
  {
   "cell_type": "markdown",
   "id": "8bef5728",
   "metadata": {
    "papermill": {
     "duration": 0.015057,
     "end_time": "2023-10-04T07:19:03.975323",
     "exception": false,
     "start_time": "2023-10-04T07:19:03.960266",
     "status": "completed"
    },
    "tags": []
   },
   "source": [
    "Flattened features array for preapering 1D CNN Model"
   ]
  },
  {
   "cell_type": "code",
   "execution_count": 18,
   "id": "b1444022",
   "metadata": {
    "papermill": {
     "duration": 0.025774,
     "end_time": "2023-10-04T07:19:04.017327",
     "exception": false,
     "start_time": "2023-10-04T07:19:03.991553",
     "status": "completed"
    },
    "tags": []
   },
   "outputs": [],
   "source": [
    "flattened_features = new_features.reshape(-1, 182)\n"
   ]
  },
  {
   "cell_type": "code",
   "execution_count": 19,
   "id": "440863c9",
   "metadata": {
    "papermill": {
     "duration": 0.025802,
     "end_time": "2023-10-04T07:19:04.061470",
     "exception": false,
     "start_time": "2023-10-04T07:19:04.035668",
     "status": "completed"
    },
    "tags": []
   },
   "outputs": [],
   "source": [
    "augmented_labels = np.repeat(labels, 3)"
   ]
  },
  {
   "cell_type": "code",
   "execution_count": 20,
   "id": "ef364374",
   "metadata": {
    "papermill": {
     "duration": 0.028347,
     "end_time": "2023-10-04T07:19:04.101654",
     "exception": false,
     "start_time": "2023-10-04T07:19:04.073307",
     "status": "completed"
    },
    "tags": []
   },
   "outputs": [],
   "source": [
    "augmented_features = np.reshape(features, (-1, 182))  # Flatten the feature sets\n",
    "\n",
    "mask = ~np.isin(augmented_labels, ['Asthma', 'LRTI'])\n",
    "augmented_features = augmented_features[mask]\n",
    "augmented_labels = augmented_labels[mask]"
   ]
  },
  {
   "cell_type": "code",
   "execution_count": 21,
   "id": "82e30d05",
   "metadata": {
    "papermill": {
     "duration": 0.025192,
     "end_time": "2023-10-04T07:19:04.139243",
     "exception": false,
     "start_time": "2023-10-04T07:19:04.114051",
     "status": "completed"
    },
    "tags": []
   },
   "outputs": [],
   "source": [
    "le = LabelEncoder()\n",
    "i_labels = le.fit_transform(augmented_labels)\n",
    "oh_labels = to_categorical(i_labels)"
   ]
  },
  {
   "cell_type": "code",
   "execution_count": 22,
   "id": "5d56bcc3",
   "metadata": {
    "papermill": {
     "duration": 0.027898,
     "end_time": "2023-10-04T07:19:04.179017",
     "exception": false,
     "start_time": "2023-10-04T07:19:04.151119",
     "status": "completed"
    },
    "tags": []
   },
   "outputs": [
    {
     "data": {
      "text/plain": [
       "(2751, 6)"
      ]
     },
     "execution_count": 22,
     "metadata": {},
     "output_type": "execute_result"
    }
   ],
   "source": [
    "oh_labels.shape"
   ]
  },
  {
   "cell_type": "code",
   "execution_count": 23,
   "id": "10f3f7c5",
   "metadata": {
    "papermill": {
     "duration": 0.021276,
     "end_time": "2023-10-04T07:19:04.211196",
     "exception": false,
     "start_time": "2023-10-04T07:19:04.189920",
     "status": "completed"
    },
    "tags": []
   },
   "outputs": [
    {
     "data": {
      "text/plain": [
       "(2751, 182)"
      ]
     },
     "execution_count": 23,
     "metadata": {},
     "output_type": "execute_result"
    }
   ],
   "source": [
    "flattened_features.shape"
   ]
  },
  {
   "cell_type": "code",
   "execution_count": 24,
   "id": "c14689ec",
   "metadata": {
    "papermill": {
     "duration": 0.045836,
     "end_time": "2023-10-04T07:19:04.273416",
     "exception": false,
     "start_time": "2023-10-04T07:19:04.227580",
     "status": "completed"
    },
    "tags": []
   },
   "outputs": [],
   "source": [
    "# train test split\n",
    "x_train, x_test, y_train, y_test = train_test_split(flattened_features, oh_labels, stratify=oh_labels,\n",
    "                                                    test_size=0.2, random_state = 42)"
   ]
  },
  {
   "cell_type": "code",
   "execution_count": 25,
   "id": "b2ab5f3c",
   "metadata": {
    "papermill": {
     "duration": 0.027227,
     "end_time": "2023-10-04T07:19:04.313012",
     "exception": false,
     "start_time": "2023-10-04T07:19:04.285785",
     "status": "completed"
    },
    "tags": []
   },
   "outputs": [],
   "source": [
    "#SCALER & TRANSFORMATION\n",
    "scaler_data = StandardScaler()"
   ]
  },
  {
   "cell_type": "code",
   "execution_count": 26,
   "id": "cdb3e2b3",
   "metadata": {
    "papermill": {
     "duration": 0.024977,
     "end_time": "2023-10-04T07:19:04.355615",
     "exception": false,
     "start_time": "2023-10-04T07:19:04.330638",
     "status": "completed"
    },
    "tags": []
   },
   "outputs": [
    {
     "name": "stdout",
     "output_type": "stream",
     "text": [
      "(2200, 182)\n",
      "(2200, 6)\n",
      "(551, 182)\n",
      "(551, 6)\n"
     ]
    }
   ],
   "source": [
    "print(x_train.shape)\n",
    "print(y_train.shape)\n",
    "print(x_test.shape)\n",
    "print(y_test.shape)"
   ]
  },
  {
   "cell_type": "code",
   "execution_count": 27,
   "id": "63eb2b68",
   "metadata": {
    "papermill": {
     "duration": 0.035458,
     "end_time": "2023-10-04T07:19:04.403543",
     "exception": false,
     "start_time": "2023-10-04T07:19:04.368085",
     "status": "completed"
    },
    "tags": []
   },
   "outputs": [],
   "source": [
    "x_train = scaler_data.fit_transform(x_train)\n",
    "x_test = scaler_data.transform(x_test)"
   ]
  },
  {
   "cell_type": "code",
   "execution_count": 28,
   "id": "181e6b86",
   "metadata": {
    "papermill": {
     "duration": 0.02349,
     "end_time": "2023-10-04T07:19:04.439287",
     "exception": false,
     "start_time": "2023-10-04T07:19:04.415797",
     "status": "completed"
    },
    "tags": []
   },
   "outputs": [],
   "source": [
    "x_train = np.expand_dims(x_train,axis=2)\n",
    "x_test = np.expand_dims(x_test,axis=2)"
   ]
  },
  {
   "cell_type": "markdown",
   "id": "b1378e8c",
   "metadata": {
    "execution": {
     "iopub.execute_input": "2023-10-03T12:55:19.668276Z",
     "iopub.status.busy": "2023-10-03T12:55:19.667893Z",
     "iopub.status.idle": "2023-10-03T12:55:19.674553Z",
     "shell.execute_reply": "2023-10-03T12:55:19.673410Z",
     "shell.execute_reply.started": "2023-10-03T12:55:19.668247Z"
    },
    "papermill": {
     "duration": 0.012254,
     "end_time": "2023-10-04T07:19:04.469646",
     "exception": false,
     "start_time": "2023-10-04T07:19:04.457392",
     "status": "completed"
    },
    "tags": []
   },
   "source": [
    "# 1D CNN Model"
   ]
  },
  {
   "cell_type": "code",
   "execution_count": 29,
   "id": "29206202",
   "metadata": {
    "papermill": {
     "duration": 0.421759,
     "end_time": "2023-10-04T07:19:04.903871",
     "exception": false,
     "start_time": "2023-10-04T07:19:04.482112",
     "status": "completed"
    },
    "tags": []
   },
   "outputs": [
    {
     "name": "stderr",
     "output_type": "stream",
     "text": [
      "C:\\Users\\acer\\anaconda3\\envs\\myenv\\lib\\site-packages\\keras\\src\\layers\\convolutional\\base_conv.py:113: UserWarning: Do not pass an `input_shape`/`input_dim` argument to a layer. When using Sequential models, prefer using an `Input(shape)` object as the first layer in the model instead.\n",
      "  super().__init__(activity_regularizer=activity_regularizer, **kwargs)\n"
     ]
    }
   ],
   "source": [
    "from tensorflow.keras import layers, Sequential\n",
    "\n",
    "num_labels = len(np.unique(new_labels))  # Determine the number of unique classes\n",
    "\n",
    "Model = Sequential([\n",
    "    layers.Conv1D(256, kernel_size=5, strides=1, padding='same', activation='relu', input_shape=(x_train.shape[1], 1)),\n",
    "    layers.MaxPooling1D(pool_size=5, strides = 2, padding = 'same'),\n",
    "    layers.Conv1D(256, kernel_size=5, strides=1, padding='same', activation='relu'),\n",
    "    layers.MaxPooling1D(pool_size=5, strides = 2, padding = 'same'),\n",
    "    layers.Conv1D(128, kernel_size=5, strides=1, padding='same', activation='relu'),\n",
    "    layers.MaxPooling1D(pool_size=5, strides = 2, padding = 'same'),\n",
    "    layers.Conv1D(64, kernel_size=5, strides=1, padding='same', activation='relu'),\n",
    "    layers.MaxPooling1D(pool_size=5, strides = 2, padding = 'same'),\n",
    "    layers.Conv1D(32, kernel_size=5, strides=1, padding='same', activation='relu'),\n",
    "    layers.MaxPooling1D(pool_size=5, strides = 2, padding = 'same'),\n",
    "    layers.Dropout(0.2),\n",
    "    layers.Flatten(),\n",
    "    layers.Dense(units=32, activation='relu'),\n",
    "    layers.Dropout(0.3),\n",
    "    layers.Dense(units=num_labels, activation='softmax')\n",
    "])"
   ]
  },
  {
   "cell_type": "code",
   "execution_count": 32,
   "id": "8459e0f3-29b6-4f99-84e6-299bd3a18ce6",
   "metadata": {},
   "outputs": [
    {
     "data": {
      "text/html": [
       "<pre style=\"white-space:pre;overflow-x:auto;line-height:normal;font-family:Menlo,'DejaVu Sans Mono',consolas,'Courier New',monospace\"><span style=\"font-weight: bold\">Model: \"sequential\"</span>\n",
       "</pre>\n"
      ],
      "text/plain": [
       "\u001b[1mModel: \"sequential\"\u001b[0m\n"
      ]
     },
     "metadata": {},
     "output_type": "display_data"
    },
    {
     "data": {
      "text/html": [
       "<pre style=\"white-space:pre;overflow-x:auto;line-height:normal;font-family:Menlo,'DejaVu Sans Mono',consolas,'Courier New',monospace\">┏━━━━━━━━━━━━━━━━━━━━━━━━━━━━━━━━━┳━━━━━━━━━━━━━━━━━━━━━━━━┳━━━━━━━━━━━━━━━┓\n",
       "┃<span style=\"font-weight: bold\"> Layer (type)                    </span>┃<span style=\"font-weight: bold\"> Output Shape           </span>┃<span style=\"font-weight: bold\">       Param # </span>┃\n",
       "┡━━━━━━━━━━━━━━━━━━━━━━━━━━━━━━━━━╇━━━━━━━━━━━━━━━━━━━━━━━━╇━━━━━━━━━━━━━━━┩\n",
       "│ conv1d (<span style=\"color: #0087ff; text-decoration-color: #0087ff\">Conv1D</span>)                 │ (<span style=\"color: #00d7ff; text-decoration-color: #00d7ff\">None</span>, <span style=\"color: #00af00; text-decoration-color: #00af00\">182</span>, <span style=\"color: #00af00; text-decoration-color: #00af00\">256</span>)       │         <span style=\"color: #00af00; text-decoration-color: #00af00\">1,536</span> │\n",
       "├─────────────────────────────────┼────────────────────────┼───────────────┤\n",
       "│ max_pooling1d (<span style=\"color: #0087ff; text-decoration-color: #0087ff\">MaxPooling1D</span>)    │ (<span style=\"color: #00d7ff; text-decoration-color: #00d7ff\">None</span>, <span style=\"color: #00af00; text-decoration-color: #00af00\">91</span>, <span style=\"color: #00af00; text-decoration-color: #00af00\">256</span>)        │             <span style=\"color: #00af00; text-decoration-color: #00af00\">0</span> │\n",
       "├─────────────────────────────────┼────────────────────────┼───────────────┤\n",
       "│ conv1d_1 (<span style=\"color: #0087ff; text-decoration-color: #0087ff\">Conv1D</span>)               │ (<span style=\"color: #00d7ff; text-decoration-color: #00d7ff\">None</span>, <span style=\"color: #00af00; text-decoration-color: #00af00\">91</span>, <span style=\"color: #00af00; text-decoration-color: #00af00\">256</span>)        │       <span style=\"color: #00af00; text-decoration-color: #00af00\">327,936</span> │\n",
       "├─────────────────────────────────┼────────────────────────┼───────────────┤\n",
       "│ max_pooling1d_1 (<span style=\"color: #0087ff; text-decoration-color: #0087ff\">MaxPooling1D</span>)  │ (<span style=\"color: #00d7ff; text-decoration-color: #00d7ff\">None</span>, <span style=\"color: #00af00; text-decoration-color: #00af00\">46</span>, <span style=\"color: #00af00; text-decoration-color: #00af00\">256</span>)        │             <span style=\"color: #00af00; text-decoration-color: #00af00\">0</span> │\n",
       "├─────────────────────────────────┼────────────────────────┼───────────────┤\n",
       "│ conv1d_2 (<span style=\"color: #0087ff; text-decoration-color: #0087ff\">Conv1D</span>)               │ (<span style=\"color: #00d7ff; text-decoration-color: #00d7ff\">None</span>, <span style=\"color: #00af00; text-decoration-color: #00af00\">46</span>, <span style=\"color: #00af00; text-decoration-color: #00af00\">128</span>)        │       <span style=\"color: #00af00; text-decoration-color: #00af00\">163,968</span> │\n",
       "├─────────────────────────────────┼────────────────────────┼───────────────┤\n",
       "│ max_pooling1d_2 (<span style=\"color: #0087ff; text-decoration-color: #0087ff\">MaxPooling1D</span>)  │ (<span style=\"color: #00d7ff; text-decoration-color: #00d7ff\">None</span>, <span style=\"color: #00af00; text-decoration-color: #00af00\">23</span>, <span style=\"color: #00af00; text-decoration-color: #00af00\">128</span>)        │             <span style=\"color: #00af00; text-decoration-color: #00af00\">0</span> │\n",
       "├─────────────────────────────────┼────────────────────────┼───────────────┤\n",
       "│ conv1d_3 (<span style=\"color: #0087ff; text-decoration-color: #0087ff\">Conv1D</span>)               │ (<span style=\"color: #00d7ff; text-decoration-color: #00d7ff\">None</span>, <span style=\"color: #00af00; text-decoration-color: #00af00\">23</span>, <span style=\"color: #00af00; text-decoration-color: #00af00\">64</span>)         │        <span style=\"color: #00af00; text-decoration-color: #00af00\">41,024</span> │\n",
       "├─────────────────────────────────┼────────────────────────┼───────────────┤\n",
       "│ max_pooling1d_3 (<span style=\"color: #0087ff; text-decoration-color: #0087ff\">MaxPooling1D</span>)  │ (<span style=\"color: #00d7ff; text-decoration-color: #00d7ff\">None</span>, <span style=\"color: #00af00; text-decoration-color: #00af00\">12</span>, <span style=\"color: #00af00; text-decoration-color: #00af00\">64</span>)         │             <span style=\"color: #00af00; text-decoration-color: #00af00\">0</span> │\n",
       "├─────────────────────────────────┼────────────────────────┼───────────────┤\n",
       "│ conv1d_4 (<span style=\"color: #0087ff; text-decoration-color: #0087ff\">Conv1D</span>)               │ (<span style=\"color: #00d7ff; text-decoration-color: #00d7ff\">None</span>, <span style=\"color: #00af00; text-decoration-color: #00af00\">12</span>, <span style=\"color: #00af00; text-decoration-color: #00af00\">32</span>)         │        <span style=\"color: #00af00; text-decoration-color: #00af00\">10,272</span> │\n",
       "├─────────────────────────────────┼────────────────────────┼───────────────┤\n",
       "│ max_pooling1d_4 (<span style=\"color: #0087ff; text-decoration-color: #0087ff\">MaxPooling1D</span>)  │ (<span style=\"color: #00d7ff; text-decoration-color: #00d7ff\">None</span>, <span style=\"color: #00af00; text-decoration-color: #00af00\">6</span>, <span style=\"color: #00af00; text-decoration-color: #00af00\">32</span>)          │             <span style=\"color: #00af00; text-decoration-color: #00af00\">0</span> │\n",
       "├─────────────────────────────────┼────────────────────────┼───────────────┤\n",
       "│ dropout (<span style=\"color: #0087ff; text-decoration-color: #0087ff\">Dropout</span>)               │ (<span style=\"color: #00d7ff; text-decoration-color: #00d7ff\">None</span>, <span style=\"color: #00af00; text-decoration-color: #00af00\">6</span>, <span style=\"color: #00af00; text-decoration-color: #00af00\">32</span>)          │             <span style=\"color: #00af00; text-decoration-color: #00af00\">0</span> │\n",
       "├─────────────────────────────────┼────────────────────────┼───────────────┤\n",
       "│ flatten (<span style=\"color: #0087ff; text-decoration-color: #0087ff\">Flatten</span>)               │ (<span style=\"color: #00d7ff; text-decoration-color: #00d7ff\">None</span>, <span style=\"color: #00af00; text-decoration-color: #00af00\">192</span>)            │             <span style=\"color: #00af00; text-decoration-color: #00af00\">0</span> │\n",
       "├─────────────────────────────────┼────────────────────────┼───────────────┤\n",
       "│ dense (<span style=\"color: #0087ff; text-decoration-color: #0087ff\">Dense</span>)                   │ (<span style=\"color: #00d7ff; text-decoration-color: #00d7ff\">None</span>, <span style=\"color: #00af00; text-decoration-color: #00af00\">32</span>)             │         <span style=\"color: #00af00; text-decoration-color: #00af00\">6,176</span> │\n",
       "├─────────────────────────────────┼────────────────────────┼───────────────┤\n",
       "│ dropout_1 (<span style=\"color: #0087ff; text-decoration-color: #0087ff\">Dropout</span>)             │ (<span style=\"color: #00d7ff; text-decoration-color: #00d7ff\">None</span>, <span style=\"color: #00af00; text-decoration-color: #00af00\">32</span>)             │             <span style=\"color: #00af00; text-decoration-color: #00af00\">0</span> │\n",
       "├─────────────────────────────────┼────────────────────────┼───────────────┤\n",
       "│ dense_1 (<span style=\"color: #0087ff; text-decoration-color: #0087ff\">Dense</span>)                 │ (<span style=\"color: #00d7ff; text-decoration-color: #00d7ff\">None</span>, <span style=\"color: #00af00; text-decoration-color: #00af00\">6</span>)              │           <span style=\"color: #00af00; text-decoration-color: #00af00\">198</span> │\n",
       "└─────────────────────────────────┴────────────────────────┴───────────────┘\n",
       "</pre>\n"
      ],
      "text/plain": [
       "┏━━━━━━━━━━━━━━━━━━━━━━━━━━━━━━━━━┳━━━━━━━━━━━━━━━━━━━━━━━━┳━━━━━━━━━━━━━━━┓\n",
       "┃\u001b[1m \u001b[0m\u001b[1mLayer (type)                   \u001b[0m\u001b[1m \u001b[0m┃\u001b[1m \u001b[0m\u001b[1mOutput Shape          \u001b[0m\u001b[1m \u001b[0m┃\u001b[1m \u001b[0m\u001b[1m      Param #\u001b[0m\u001b[1m \u001b[0m┃\n",
       "┡━━━━━━━━━━━━━━━━━━━━━━━━━━━━━━━━━╇━━━━━━━━━━━━━━━━━━━━━━━━╇━━━━━━━━━━━━━━━┩\n",
       "│ conv1d (\u001b[38;5;33mConv1D\u001b[0m)                 │ (\u001b[38;5;45mNone\u001b[0m, \u001b[38;5;34m182\u001b[0m, \u001b[38;5;34m256\u001b[0m)       │         \u001b[38;5;34m1,536\u001b[0m │\n",
       "├─────────────────────────────────┼────────────────────────┼───────────────┤\n",
       "│ max_pooling1d (\u001b[38;5;33mMaxPooling1D\u001b[0m)    │ (\u001b[38;5;45mNone\u001b[0m, \u001b[38;5;34m91\u001b[0m, \u001b[38;5;34m256\u001b[0m)        │             \u001b[38;5;34m0\u001b[0m │\n",
       "├─────────────────────────────────┼────────────────────────┼───────────────┤\n",
       "│ conv1d_1 (\u001b[38;5;33mConv1D\u001b[0m)               │ (\u001b[38;5;45mNone\u001b[0m, \u001b[38;5;34m91\u001b[0m, \u001b[38;5;34m256\u001b[0m)        │       \u001b[38;5;34m327,936\u001b[0m │\n",
       "├─────────────────────────────────┼────────────────────────┼───────────────┤\n",
       "│ max_pooling1d_1 (\u001b[38;5;33mMaxPooling1D\u001b[0m)  │ (\u001b[38;5;45mNone\u001b[0m, \u001b[38;5;34m46\u001b[0m, \u001b[38;5;34m256\u001b[0m)        │             \u001b[38;5;34m0\u001b[0m │\n",
       "├─────────────────────────────────┼────────────────────────┼───────────────┤\n",
       "│ conv1d_2 (\u001b[38;5;33mConv1D\u001b[0m)               │ (\u001b[38;5;45mNone\u001b[0m, \u001b[38;5;34m46\u001b[0m, \u001b[38;5;34m128\u001b[0m)        │       \u001b[38;5;34m163,968\u001b[0m │\n",
       "├─────────────────────────────────┼────────────────────────┼───────────────┤\n",
       "│ max_pooling1d_2 (\u001b[38;5;33mMaxPooling1D\u001b[0m)  │ (\u001b[38;5;45mNone\u001b[0m, \u001b[38;5;34m23\u001b[0m, \u001b[38;5;34m128\u001b[0m)        │             \u001b[38;5;34m0\u001b[0m │\n",
       "├─────────────────────────────────┼────────────────────────┼───────────────┤\n",
       "│ conv1d_3 (\u001b[38;5;33mConv1D\u001b[0m)               │ (\u001b[38;5;45mNone\u001b[0m, \u001b[38;5;34m23\u001b[0m, \u001b[38;5;34m64\u001b[0m)         │        \u001b[38;5;34m41,024\u001b[0m │\n",
       "├─────────────────────────────────┼────────────────────────┼───────────────┤\n",
       "│ max_pooling1d_3 (\u001b[38;5;33mMaxPooling1D\u001b[0m)  │ (\u001b[38;5;45mNone\u001b[0m, \u001b[38;5;34m12\u001b[0m, \u001b[38;5;34m64\u001b[0m)         │             \u001b[38;5;34m0\u001b[0m │\n",
       "├─────────────────────────────────┼────────────────────────┼───────────────┤\n",
       "│ conv1d_4 (\u001b[38;5;33mConv1D\u001b[0m)               │ (\u001b[38;5;45mNone\u001b[0m, \u001b[38;5;34m12\u001b[0m, \u001b[38;5;34m32\u001b[0m)         │        \u001b[38;5;34m10,272\u001b[0m │\n",
       "├─────────────────────────────────┼────────────────────────┼───────────────┤\n",
       "│ max_pooling1d_4 (\u001b[38;5;33mMaxPooling1D\u001b[0m)  │ (\u001b[38;5;45mNone\u001b[0m, \u001b[38;5;34m6\u001b[0m, \u001b[38;5;34m32\u001b[0m)          │             \u001b[38;5;34m0\u001b[0m │\n",
       "├─────────────────────────────────┼────────────────────────┼───────────────┤\n",
       "│ dropout (\u001b[38;5;33mDropout\u001b[0m)               │ (\u001b[38;5;45mNone\u001b[0m, \u001b[38;5;34m6\u001b[0m, \u001b[38;5;34m32\u001b[0m)          │             \u001b[38;5;34m0\u001b[0m │\n",
       "├─────────────────────────────────┼────────────────────────┼───────────────┤\n",
       "│ flatten (\u001b[38;5;33mFlatten\u001b[0m)               │ (\u001b[38;5;45mNone\u001b[0m, \u001b[38;5;34m192\u001b[0m)            │             \u001b[38;5;34m0\u001b[0m │\n",
       "├─────────────────────────────────┼────────────────────────┼───────────────┤\n",
       "│ dense (\u001b[38;5;33mDense\u001b[0m)                   │ (\u001b[38;5;45mNone\u001b[0m, \u001b[38;5;34m32\u001b[0m)             │         \u001b[38;5;34m6,176\u001b[0m │\n",
       "├─────────────────────────────────┼────────────────────────┼───────────────┤\n",
       "│ dropout_1 (\u001b[38;5;33mDropout\u001b[0m)             │ (\u001b[38;5;45mNone\u001b[0m, \u001b[38;5;34m32\u001b[0m)             │             \u001b[38;5;34m0\u001b[0m │\n",
       "├─────────────────────────────────┼────────────────────────┼───────────────┤\n",
       "│ dense_1 (\u001b[38;5;33mDense\u001b[0m)                 │ (\u001b[38;5;45mNone\u001b[0m, \u001b[38;5;34m6\u001b[0m)              │           \u001b[38;5;34m198\u001b[0m │\n",
       "└─────────────────────────────────┴────────────────────────┴───────────────┘\n"
      ]
     },
     "metadata": {},
     "output_type": "display_data"
    },
    {
     "data": {
      "text/html": [
       "<pre style=\"white-space:pre;overflow-x:auto;line-height:normal;font-family:Menlo,'DejaVu Sans Mono',consolas,'Courier New',monospace\"><span style=\"font-weight: bold\"> Total params: </span><span style=\"color: #00af00; text-decoration-color: #00af00\">551,110</span> (2.10 MB)\n",
       "</pre>\n"
      ],
      "text/plain": [
       "\u001b[1m Total params: \u001b[0m\u001b[38;5;34m551,110\u001b[0m (2.10 MB)\n"
      ]
     },
     "metadata": {},
     "output_type": "display_data"
    },
    {
     "data": {
      "text/html": [
       "<pre style=\"white-space:pre;overflow-x:auto;line-height:normal;font-family:Menlo,'DejaVu Sans Mono',consolas,'Courier New',monospace\"><span style=\"font-weight: bold\"> Trainable params: </span><span style=\"color: #00af00; text-decoration-color: #00af00\">551,110</span> (2.10 MB)\n",
       "</pre>\n"
      ],
      "text/plain": [
       "\u001b[1m Trainable params: \u001b[0m\u001b[38;5;34m551,110\u001b[0m (2.10 MB)\n"
      ]
     },
     "metadata": {},
     "output_type": "display_data"
    },
    {
     "data": {
      "text/html": [
       "<pre style=\"white-space:pre;overflow-x:auto;line-height:normal;font-family:Menlo,'DejaVu Sans Mono',consolas,'Courier New',monospace\"><span style=\"font-weight: bold\"> Non-trainable params: </span><span style=\"color: #00af00; text-decoration-color: #00af00\">0</span> (0.00 B)\n",
       "</pre>\n"
      ],
      "text/plain": [
       "\u001b[1m Non-trainable params: \u001b[0m\u001b[38;5;34m0\u001b[0m (0.00 B)\n"
      ]
     },
     "metadata": {},
     "output_type": "display_data"
    }
   ],
   "source": [
    "Model.summary()"
   ]
  },
  {
   "cell_type": "code",
   "execution_count": 33,
   "id": "5ba1cd9e",
   "metadata": {
    "papermill": {
     "duration": 0.040858,
     "end_time": "2023-10-04T07:19:04.957340",
     "exception": false,
     "start_time": "2023-10-04T07:19:04.916482",
     "status": "completed"
    },
    "tags": []
   },
   "outputs": [],
   "source": [
    "Model.compile(optimizer = 'adam' , loss = 'categorical_crossentropy' , metrics = ['accuracy'])\n"
   ]
  },
  {
   "cell_type": "code",
   "execution_count": 34,
   "id": "8c2e0fde",
   "metadata": {
    "papermill": {
     "duration": 0.022071,
     "end_time": "2023-10-04T07:19:04.991756",
     "exception": false,
     "start_time": "2023-10-04T07:19:04.969685",
     "status": "completed"
    },
    "tags": []
   },
   "outputs": [],
   "source": [
    "early_stop = tensorflow.keras.callbacks.EarlyStopping(monitor=\"loss\",patience=3,mode=\"min\")"
   ]
  },
  {
   "cell_type": "code",
   "execution_count": 35,
   "id": "e33e4d07",
   "metadata": {
    "papermill": {
     "duration": 300.242427,
     "end_time": "2023-10-04T07:24:05.246137",
     "exception": false,
     "start_time": "2023-10-04T07:19:05.003710",
     "status": "completed"
    },
    "tags": []
   },
   "outputs": [
    {
     "name": "stdout",
     "output_type": "stream",
     "text": [
      "Epoch 1/100\n",
      "\u001b[1m35/35\u001b[0m \u001b[32m━━━━━━━━━━━━━━━━━━━━\u001b[0m\u001b[37m\u001b[0m \u001b[1m15s\u001b[0m 201ms/step - accuracy: 0.7633 - loss: 0.9816 - val_accuracy: 0.8639 - val_loss: 0.5943\n",
      "Epoch 2/100\n",
      "\u001b[1m35/35\u001b[0m \u001b[32m━━━━━━━━━━━━━━━━━━━━\u001b[0m\u001b[37m\u001b[0m \u001b[1m6s\u001b[0m 173ms/step - accuracy: 0.8696 - loss: 0.6211 - val_accuracy: 0.8639 - val_loss: 0.5450\n",
      "Epoch 3/100\n",
      "\u001b[1m35/35\u001b[0m \u001b[32m━━━━━━━━━━━━━━━━━━━━\u001b[0m\u001b[37m\u001b[0m \u001b[1m6s\u001b[0m 172ms/step - accuracy: 0.8567 - loss: 0.6043 - val_accuracy: 0.8639 - val_loss: 0.5525\n",
      "Epoch 4/100\n",
      "\u001b[1m35/35\u001b[0m \u001b[32m━━━━━━━━━━━━━━━━━━━━\u001b[0m\u001b[37m\u001b[0m \u001b[1m6s\u001b[0m 175ms/step - accuracy: 0.8761 - loss: 0.4913 - val_accuracy: 0.8639 - val_loss: 0.4540\n",
      "Epoch 5/100\n",
      "\u001b[1m35/35\u001b[0m \u001b[32m━━━━━━━━━━━━━━━━━━━━\u001b[0m\u001b[37m\u001b[0m \u001b[1m6s\u001b[0m 173ms/step - accuracy: 0.8594 - loss: 0.4920 - val_accuracy: 0.8657 - val_loss: 0.4268\n",
      "Epoch 6/100\n",
      "\u001b[1m35/35\u001b[0m \u001b[32m━━━━━━━━━━━━━━━━━━━━\u001b[0m\u001b[37m\u001b[0m \u001b[1m6s\u001b[0m 174ms/step - accuracy: 0.8742 - loss: 0.4329 - val_accuracy: 0.8675 - val_loss: 0.4046\n",
      "Epoch 7/100\n",
      "\u001b[1m35/35\u001b[0m \u001b[32m━━━━━━━━━━━━━━━━━━━━\u001b[0m\u001b[37m\u001b[0m \u001b[1m6s\u001b[0m 173ms/step - accuracy: 0.8821 - loss: 0.3900 - val_accuracy: 0.8639 - val_loss: 0.4021\n",
      "Epoch 8/100\n",
      "\u001b[1m35/35\u001b[0m \u001b[32m━━━━━━━━━━━━━━━━━━━━\u001b[0m\u001b[37m\u001b[0m \u001b[1m6s\u001b[0m 172ms/step - accuracy: 0.8789 - loss: 0.3551 - val_accuracy: 0.8603 - val_loss: 0.3512\n",
      "Epoch 9/100\n",
      "\u001b[1m35/35\u001b[0m \u001b[32m━━━━━━━━━━━━━━━━━━━━\u001b[0m\u001b[37m\u001b[0m \u001b[1m6s\u001b[0m 173ms/step - accuracy: 0.8816 - loss: 0.3445 - val_accuracy: 0.8711 - val_loss: 0.3507\n",
      "Epoch 10/100\n",
      "\u001b[1m35/35\u001b[0m \u001b[32m━━━━━━━━━━━━━━━━━━━━\u001b[0m\u001b[37m\u001b[0m \u001b[1m6s\u001b[0m 173ms/step - accuracy: 0.8823 - loss: 0.3377 - val_accuracy: 0.8802 - val_loss: 0.3390\n",
      "Epoch 11/100\n",
      "\u001b[1m35/35\u001b[0m \u001b[32m━━━━━━━━━━━━━━━━━━━━\u001b[0m\u001b[37m\u001b[0m \u001b[1m10s\u001b[0m 175ms/step - accuracy: 0.8883 - loss: 0.2916 - val_accuracy: 0.8603 - val_loss: 0.3903\n",
      "Epoch 12/100\n",
      "\u001b[1m35/35\u001b[0m \u001b[32m━━━━━━━━━━━━━━━━━━━━\u001b[0m\u001b[37m\u001b[0m \u001b[1m6s\u001b[0m 175ms/step - accuracy: 0.8901 - loss: 0.2918 - val_accuracy: 0.8947 - val_loss: 0.3272\n",
      "Epoch 13/100\n",
      "\u001b[1m35/35\u001b[0m \u001b[32m━━━━━━━━━━━━━━━━━━━━\u001b[0m\u001b[37m\u001b[0m \u001b[1m10s\u001b[0m 173ms/step - accuracy: 0.9125 - loss: 0.2862 - val_accuracy: 0.8730 - val_loss: 0.3512\n",
      "Epoch 14/100\n",
      "\u001b[1m35/35\u001b[0m \u001b[32m━━━━━━━━━━━━━━━━━━━━\u001b[0m\u001b[37m\u001b[0m \u001b[1m10s\u001b[0m 173ms/step - accuracy: 0.9205 - loss: 0.2379 - val_accuracy: 0.8857 - val_loss: 0.3135\n",
      "Epoch 15/100\n",
      "\u001b[1m35/35\u001b[0m \u001b[32m━━━━━━━━━━━━━━━━━━━━\u001b[0m\u001b[37m\u001b[0m \u001b[1m6s\u001b[0m 173ms/step - accuracy: 0.9131 - loss: 0.2485 - val_accuracy: 0.8748 - val_loss: 0.3019\n",
      "Epoch 16/100\n",
      "\u001b[1m35/35\u001b[0m \u001b[32m━━━━━━━━━━━━━━━━━━━━\u001b[0m\u001b[37m\u001b[0m \u001b[1m6s\u001b[0m 174ms/step - accuracy: 0.9144 - loss: 0.2353 - val_accuracy: 0.8929 - val_loss: 0.3054\n",
      "Epoch 17/100\n",
      "\u001b[1m35/35\u001b[0m \u001b[32m━━━━━━━━━━━━━━━━━━━━\u001b[0m\u001b[37m\u001b[0m \u001b[1m6s\u001b[0m 173ms/step - accuracy: 0.9167 - loss: 0.2223 - val_accuracy: 0.8748 - val_loss: 0.3295\n",
      "Epoch 18/100\n",
      "\u001b[1m35/35\u001b[0m \u001b[32m━━━━━━━━━━━━━━━━━━━━\u001b[0m\u001b[37m\u001b[0m \u001b[1m6s\u001b[0m 173ms/step - accuracy: 0.9117 - loss: 0.2355 - val_accuracy: 0.9111 - val_loss: 0.2915\n",
      "Epoch 19/100\n",
      "\u001b[1m35/35\u001b[0m \u001b[32m━━━━━━━━━━━━━━━━━━━━\u001b[0m\u001b[37m\u001b[0m \u001b[1m10s\u001b[0m 174ms/step - accuracy: 0.9277 - loss: 0.1903 - val_accuracy: 0.9020 - val_loss: 0.2750\n",
      "Epoch 20/100\n",
      "\u001b[1m35/35\u001b[0m \u001b[32m━━━━━━━━━━━━━━━━━━━━\u001b[0m\u001b[37m\u001b[0m \u001b[1m10s\u001b[0m 173ms/step - accuracy: 0.9285 - loss: 0.1935 - val_accuracy: 0.8947 - val_loss: 0.2753\n",
      "Epoch 21/100\n",
      "\u001b[1m35/35\u001b[0m \u001b[32m━━━━━━━━━━━━━━━━━━━━\u001b[0m\u001b[37m\u001b[0m \u001b[1m6s\u001b[0m 175ms/step - accuracy: 0.9360 - loss: 0.1641 - val_accuracy: 0.9020 - val_loss: 0.2732\n",
      "Epoch 22/100\n",
      "\u001b[1m35/35\u001b[0m \u001b[32m━━━━━━━━━━━━━━━━━━━━\u001b[0m\u001b[37m\u001b[0m \u001b[1m6s\u001b[0m 173ms/step - accuracy: 0.9419 - loss: 0.1767 - val_accuracy: 0.8984 - val_loss: 0.2832\n",
      "Epoch 23/100\n",
      "\u001b[1m35/35\u001b[0m \u001b[32m━━━━━━━━━━━━━━━━━━━━\u001b[0m\u001b[37m\u001b[0m \u001b[1m6s\u001b[0m 173ms/step - accuracy: 0.9353 - loss: 0.1530 - val_accuracy: 0.9020 - val_loss: 0.2773\n",
      "Epoch 24/100\n",
      "\u001b[1m35/35\u001b[0m \u001b[32m━━━━━━━━━━━━━━━━━━━━\u001b[0m\u001b[37m\u001b[0m \u001b[1m6s\u001b[0m 173ms/step - accuracy: 0.9349 - loss: 0.1566 - val_accuracy: 0.9093 - val_loss: 0.2734\n",
      "Epoch 25/100\n",
      "\u001b[1m35/35\u001b[0m \u001b[32m━━━━━━━━━━━━━━━━━━━━\u001b[0m\u001b[37m\u001b[0m \u001b[1m10s\u001b[0m 173ms/step - accuracy: 0.9349 - loss: 0.1545 - val_accuracy: 0.8893 - val_loss: 0.3567\n",
      "Epoch 26/100\n",
      "\u001b[1m35/35\u001b[0m \u001b[32m━━━━━━━━━━━━━━━━━━━━\u001b[0m\u001b[37m\u001b[0m \u001b[1m5s\u001b[0m 142ms/step - accuracy: 0.9390 - loss: 0.1384 - val_accuracy: 0.9111 - val_loss: 0.2916\n",
      "Epoch 27/100\n",
      "\u001b[1m35/35\u001b[0m \u001b[32m━━━━━━━━━━━━━━━━━━━━\u001b[0m\u001b[37m\u001b[0m \u001b[1m4s\u001b[0m 118ms/step - accuracy: 0.9427 - loss: 0.1538 - val_accuracy: 0.8802 - val_loss: 0.3341\n",
      "Epoch 28/100\n",
      "\u001b[1m35/35\u001b[0m \u001b[32m━━━━━━━━━━━━━━━━━━━━\u001b[0m\u001b[37m\u001b[0m \u001b[1m4s\u001b[0m 119ms/step - accuracy: 0.9442 - loss: 0.1410 - val_accuracy: 0.8766 - val_loss: 0.3662\n",
      "Epoch 29/100\n",
      "\u001b[1m35/35\u001b[0m \u001b[32m━━━━━━━━━━━━━━━━━━━━\u001b[0m\u001b[37m\u001b[0m \u001b[1m4s\u001b[0m 116ms/step - accuracy: 0.9528 - loss: 0.1316 - val_accuracy: 0.9002 - val_loss: 0.4077\n",
      "Epoch 30/100\n",
      "\u001b[1m35/35\u001b[0m \u001b[32m━━━━━━━━━━━━━━━━━━━━\u001b[0m\u001b[37m\u001b[0m \u001b[1m4s\u001b[0m 111ms/step - accuracy: 0.9504 - loss: 0.1481 - val_accuracy: 0.8929 - val_loss: 0.3273\n",
      "Epoch 31/100\n",
      "\u001b[1m35/35\u001b[0m \u001b[32m━━━━━━━━━━━━━━━━━━━━\u001b[0m\u001b[37m\u001b[0m \u001b[1m4s\u001b[0m 112ms/step - accuracy: 0.9493 - loss: 0.1174 - val_accuracy: 0.9038 - val_loss: 0.3439\n",
      "Epoch 32/100\n",
      "\u001b[1m35/35\u001b[0m \u001b[32m━━━━━━━━━━━━━━━━━━━━\u001b[0m\u001b[37m\u001b[0m \u001b[1m5s\u001b[0m 113ms/step - accuracy: 0.9429 - loss: 0.1517 - val_accuracy: 0.9093 - val_loss: 0.3256\n",
      "Epoch 33/100\n",
      "\u001b[1m35/35\u001b[0m \u001b[32m━━━━━━━━━━━━━━━━━━━━\u001b[0m\u001b[37m\u001b[0m \u001b[1m4s\u001b[0m 115ms/step - accuracy: 0.9399 - loss: 0.1617 - val_accuracy: 0.9002 - val_loss: 0.2943\n",
      "Epoch 34/100\n",
      "\u001b[1m35/35\u001b[0m \u001b[32m━━━━━━━━━━━━━━━━━━━━\u001b[0m\u001b[37m\u001b[0m \u001b[1m4s\u001b[0m 119ms/step - accuracy: 0.9513 - loss: 0.1187 - val_accuracy: 0.8984 - val_loss: 0.3508\n"
     ]
    }
   ],
   "source": [
    "evConv1D_Model = Model.fit(x_train, y_train, batch_size=64, epochs=100, validation_data=(x_test, y_test), callbacks=[early_stop])"
   ]
  },
  {
   "cell_type": "code",
   "execution_count": 36,
   "id": "13024144",
   "metadata": {
    "papermill": {
     "duration": 24.260417,
     "end_time": "2023-10-04T07:24:29.582743",
     "exception": false,
     "start_time": "2023-10-04T07:24:05.322326",
     "status": "completed"
    },
    "tags": []
   },
   "outputs": [
    {
     "name": "stdout",
     "output_type": "stream",
     "text": [
      "\u001b[1m18/18\u001b[0m \u001b[32m━━━━━━━━━━━━━━━━━━━━\u001b[0m\u001b[37m\u001b[0m \u001b[1m0s\u001b[0m 25ms/step - accuracy: 0.8949 - loss: 0.3767\n",
      "LOSS:  0.3508\n",
      "ACCURACY:  0.8984\n"
     ]
    }
   ],
   "source": [
    "Model_Results = Model.evaluate(x_test,y_test)\n",
    "print(\"LOSS:  \" + \"%.4f\" % Model_Results[0])\n",
    "print(\"ACCURACY:  \" + \"%.4f\" % Model_Results[1])"
   ]
  },
  {
   "cell_type": "markdown",
   "id": "2ffb65e9",
   "metadata": {
    "papermill": {
     "duration": 0.076722,
     "end_time": "2023-10-04T07:24:29.733890",
     "exception": false,
     "start_time": "2023-10-04T07:24:29.657168",
     "status": "completed"
    },
    "tags": []
   },
   "source": [
    "Plotting Train and Validation Loss & Accuracy:"
   ]
  },
  {
   "cell_type": "code",
   "execution_count": 37,
   "id": "e8f8494c",
   "metadata": {
    "papermill": {
     "duration": 0.609932,
     "end_time": "2023-10-04T07:24:30.416841",
     "exception": false,
     "start_time": "2023-10-04T07:24:29.806909",
     "status": "completed"
    },
    "tags": []
   },
   "outputs": [
    {
     "data": {
      "image/png": "[encoded data removed]",
      "text/plain": [
       "<Figure size 1400x500 with 2 Axes>"
      ]
     },
     "metadata": {},
     "output_type": "display_data"
    }
   ],
   "source": [
    "\n",
    "# Plotting loss\n",
    "plt.figure(figsize=(14, 5))\n",
    "plt.subplot(1, 2, 1)\n",
    "plt.plot(evConv1D_Model.history['loss'], label='Training Loss')\n",
    "plt.plot(evConv1D_Model.history['val_loss'], label='Validation Loss')\n",
    "plt.legend()\n",
    "plt.title('Training and Validation Loss')\n",
    "\n",
    "# Plotting accuracy\n",
    "plt.subplot(1, 2, 2)\n",
    "plt.plot(evConv1D_Model.history['accuracy'], label='Training Accuracy')\n",
    "plt.plot(evConv1D_Model.history['val_accuracy'], label='Validation Accuracy')\n",
    "plt.legend()\n",
    "plt.title('Training and Validation Accuracy')\n",
    "\n",
    "plt.show()\n"
   ]
  },
  {
   "cell_type": "markdown",
   "id": "1e4942ba",
   "metadata": {
    "papermill": {
     "duration": 0.080505,
     "end_time": "2023-10-04T07:24:30.572013",
     "exception": false,
     "start_time": "2023-10-04T07:24:30.491508",
     "status": "completed"
    },
    "tags": []
   },
   "source": [
    "Confusion Matrix:"
   ]
  },
  {
   "cell_type": "code",
   "execution_count": 38,
   "id": "91dcd1fd",
   "metadata": {
    "papermill": {
     "duration": 1.251848,
     "end_time": "2023-10-04T07:24:31.904037",
     "exception": false,
     "start_time": "2023-10-04T07:24:30.652189",
     "status": "completed"
    },
    "tags": []
   },
   "outputs": [
    {
     "name": "stdout",
     "output_type": "stream",
     "text": [
      "\u001b[1m18/18\u001b[0m \u001b[32m━━━━━━━━━━━━━━━━━━━━\u001b[0m\u001b[37m\u001b[0m \u001b[1m1s\u001b[0m 37ms/step\n"
     ]
    },
    {
     "data": {
      "image/png": "[encoded data removed]",
      "text/plain": [
       "<Figure size 640x480 with 2 Axes>"
      ]
     },
     "metadata": {},
     "output_type": "display_data"
    }
   ],
   "source": [
    "# Getting the predictions\n",
    "y_pred = Model.predict(x_test)\n",
    "y_pred_classes = np.argmax(y_pred, axis=1)\n",
    "y_true = np.argmax(y_test, axis=1)\n",
    "\n",
    "# Generating the confusion matrix\n",
    "confusion_mtx = confusion_matrix(y_true, y_pred_classes)\n",
    "\n",
    "# Displaying the confusion matrix\n",
    "cm_display = ConfusionMatrixDisplay(confusion_mtx, display_labels=le.classes_).plot()"
   ]
  },
  {
   "cell_type": "code",
   "execution_count": null,
   "id": "ff65b905-f5ca-4ad6-9d7c-f762d4abe94f",
   "metadata": {},
   "outputs": [],
   "source": []
  }
 ],
 "metadata": {
  "kernelspec": {
   "display_name": "Python (tf_env)",
   "language": "python",
   "name": "tf_env"
  },
  "language_info": {
   "codemirror_mode": {
    "name": "ipython",
    "version": 3
   },
   "file_extension": ".py",
   "mimetype": "text/x-python",
   "name": "python",
   "nbconvert_exporter": "python",
   "pygments_lexer": "ipython3",
   "version": "3.13.5"
  },
  "papermill": {
   "default_parameters": {},
   "duration": 2261.764295,
   "end_time": "2023-10-04T07:24:35.719042",
   "environment_variables": {},
   "exception": null,
   "input_path": "__notebook__.ipynb",
   "output_path": "__notebook__.ipynb",
   "parameters": {},
   "start_time": "2023-10-04T06:46:53.954747",
   "version": "2.4.0"
  }
 },
 "nbformat": 4,
 "nbformat_minor": 5
}
